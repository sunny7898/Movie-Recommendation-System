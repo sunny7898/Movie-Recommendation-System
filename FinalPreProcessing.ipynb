{
 "cells": [
  {
   "cell_type": "markdown",
   "metadata": {},
   "source": [
    "## FinalPreProcessing: In this file, I have combined all the data that I have collected till year 2020 and performed some pre-processing.\n",
    "\n"
   ]
  },
  {
   "cell_type": "code",
   "execution_count": 1,
   "metadata": {},
   "outputs": [],
   "source": [
    "import pandas as pd\n",
    "import numpy as np"
   ]
  },
  {
   "cell_type": "code",
   "execution_count": 2,
   "metadata": {},
   "outputs": [],
   "source": [
    "# In Dataset from Year 2018-2020, we lack many features such as genres, vote count, average vote given to a movie which were\n",
    "# present in the earlier datasets that we created. \n",
    "# These are some important features which are required during modelling.\n",
    "# So I will first handle this situation.\n",
    "\n",
    "# Importing Dataset from year 2018 - 2020\n",
    "data18_to_20 = pd.read_csv('Data-2018-to-20.csv')"
   ]
  },
  {
   "cell_type": "code",
   "execution_count": 3,
   "metadata": {},
   "outputs": [
    {
     "data": {
      "text/html": [
       "<div>\n",
       "<style scoped>\n",
       "    .dataframe tbody tr th:only-of-type {\n",
       "        vertical-align: middle;\n",
       "    }\n",
       "\n",
       "    .dataframe tbody tr th {\n",
       "        vertical-align: top;\n",
       "    }\n",
       "\n",
       "    .dataframe thead th {\n",
       "        text-align: right;\n",
       "    }\n",
       "</style>\n",
       "<table border=\"1\" class=\"dataframe\">\n",
       "  <thead>\n",
       "    <tr style=\"text-align: right;\">\n",
       "      <th></th>\n",
       "      <th>Title</th>\n",
       "      <th>Cast and crew</th>\n",
       "    </tr>\n",
       "  </thead>\n",
       "  <tbody>\n",
       "    <tr>\n",
       "      <th>0</th>\n",
       "      <td>Insidious: The Last Key</td>\n",
       "      <td>Adam Robitel (director); Leigh Whannell (scree...</td>\n",
       "    </tr>\n",
       "    <tr>\n",
       "      <th>1</th>\n",
       "      <td>The Strange Ones</td>\n",
       "      <td>Lauren Wolkstein (director); Christopher Radcl...</td>\n",
       "    </tr>\n",
       "    <tr>\n",
       "      <th>2</th>\n",
       "      <td>Stratton</td>\n",
       "      <td>Simon West (director); Duncan Falconer, Warren...</td>\n",
       "    </tr>\n",
       "    <tr>\n",
       "      <th>3</th>\n",
       "      <td>Sweet Country</td>\n",
       "      <td>Warwick Thornton (director); David Tranter, St...</td>\n",
       "    </tr>\n",
       "    <tr>\n",
       "      <th>4</th>\n",
       "      <td>The Commuter</td>\n",
       "      <td>Jaume Collet-Serra (director); Byron Willinger...</td>\n",
       "    </tr>\n",
       "  </tbody>\n",
       "</table>\n",
       "</div>"
      ],
      "text/plain": [
       "                     Title                                      Cast and crew\n",
       "0  Insidious: The Last Key  Adam Robitel (director); Leigh Whannell (scree...\n",
       "1         The Strange Ones  Lauren Wolkstein (director); Christopher Radcl...\n",
       "2                 Stratton  Simon West (director); Duncan Falconer, Warren...\n",
       "3            Sweet Country  Warwick Thornton (director); David Tranter, St...\n",
       "4             The Commuter  Jaume Collet-Serra (director); Byron Willinger..."
      ]
     },
     "execution_count": 3,
     "metadata": {},
     "output_type": "execute_result"
    }
   ],
   "source": [
    "data18_to_20.head()"
   ]
  },
  {
   "cell_type": "code",
   "execution_count": 4,
   "metadata": {},
   "outputs": [
    {
     "data": {
      "text/plain": [
       "(730, 2)"
      ]
     },
     "execution_count": 4,
     "metadata": {},
     "output_type": "execute_result"
    }
   ],
   "source": [
    "data18_to_20.shape"
   ]
  },
  {
   "cell_type": "code",
   "execution_count": null,
   "metadata": {},
   "outputs": [],
   "source": [
    "# I will be using TMDb API to extract genres of a movie, Number of votes given to a movie, \n",
    "# average vote rating given to a movie from TMDb Website."
   ]
  },
  {
   "cell_type": "code",
   "execution_count": 5,
   "metadata": {},
   "outputs": [],
   "source": [
    "from tmdbv3api import TMDb, Movie\n",
    "import json\n",
    "import requests\n",
    "tmdb = TMDb()\n",
    "tmdb.api_key = 'api_key'  "
   ]
  },
  {
   "cell_type": "code",
   "execution_count": 6,
   "metadata": {},
   "outputs": [],
   "source": [
    "# Extracting the genres\n",
    "tmdb_movie = Movie()\n",
    "movie_names = []\n",
    "def get_genre(x):\n",
    "    genres = []\n",
    "    result = tmdb_movie.search(x)\n",
    "    try:\n",
    "        movie_id = result[0].id\n",
    "    except IndexError:\n",
    "        movie_names.append(x)\n",
    "        return\n",
    "    response = requests.get('https://api.themoviedb.org/3/movie/{}?api_key={}'.format(movie_id,tmdb.api_key))\n",
    "    data_json = response.json()\n",
    "    if data_json['genres']:\n",
    "        genre_str = \" \" \n",
    "        for i in range(0,len(data_json['genres'])):\n",
    "            genres.append(data_json['genres'][i]['name'])\n",
    "        return genre_str.join(genres)\n",
    "    else:\n",
    "        np.NaN      \n",
    "\n",
    "# Extracting the average vote rating given to a movie out of 10\n",
    "def get_vote_average(x):\n",
    "    result = tmdb_movie.search(x)\n",
    "    try:\n",
    "        movie_id = result[0].id\n",
    "    except IndexError:\n",
    "        movie_names.append(x)\n",
    "        return\n",
    "    response = requests.get('https://api.themoviedb.org/3/movie/{}?api_key={}'.format(movie_id,tmdb.api_key))\n",
    "    data_json = response.json()\n",
    "    if data_json['vote_average']:\n",
    "        return data_json['vote_average']\n",
    "    else:\n",
    "        return 0.0\n",
    "\n",
    "# Extracting the number of votes given to a movie\n",
    "def get_vote_count(x):\n",
    "    result = tmdb_movie.search(x)\n",
    "    try:\n",
    "        movie_id = result[0].id\n",
    "    except IndexError:\n",
    "        movie_names.append(x)\n",
    "        return\n",
    "    response = requests.get('https://api.themoviedb.org/3/movie/{}?api_key={}'.format(movie_id,tmdb.api_key))\n",
    "    data_json = response.json()\n",
    "    if data_json['vote_count']:\n",
    "        return data_json['vote_count']\n",
    "    else:\n",
    "        np.NaN      "
   ]
  },
  {
   "cell_type": "code",
   "execution_count": 7,
   "metadata": {},
   "outputs": [],
   "source": [
    "data18_to_20['genres'] = data18_to_20['Title'].map(lambda x: get_genre(str(x)))"
   ]
  },
  {
   "cell_type": "code",
   "execution_count": 8,
   "metadata": {},
   "outputs": [],
   "source": [
    "data18_to_20['vote_count'] = data18_to_20['Title'].map(lambda x: get_vote_count(str(x)))"
   ]
  },
  {
   "cell_type": "code",
   "execution_count": 9,
   "metadata": {},
   "outputs": [],
   "source": [
    "data18_to_20['vote_average'] = data18_to_20['Title'].map(lambda x: get_vote_average(str(x)))"
   ]
  },
  {
   "cell_type": "code",
   "execution_count": 10,
   "metadata": {},
   "outputs": [
    {
     "data": {
      "text/html": [
       "<div>\n",
       "<style scoped>\n",
       "    .dataframe tbody tr th:only-of-type {\n",
       "        vertical-align: middle;\n",
       "    }\n",
       "\n",
       "    .dataframe tbody tr th {\n",
       "        vertical-align: top;\n",
       "    }\n",
       "\n",
       "    .dataframe thead th {\n",
       "        text-align: right;\n",
       "    }\n",
       "</style>\n",
       "<table border=\"1\" class=\"dataframe\">\n",
       "  <thead>\n",
       "    <tr style=\"text-align: right;\">\n",
       "      <th></th>\n",
       "      <th>Title</th>\n",
       "      <th>Cast and crew</th>\n",
       "      <th>genres</th>\n",
       "      <th>vote_count</th>\n",
       "      <th>vote_average</th>\n",
       "    </tr>\n",
       "  </thead>\n",
       "  <tbody>\n",
       "    <tr>\n",
       "      <th>0</th>\n",
       "      <td>Insidious: The Last Key</td>\n",
       "      <td>Adam Robitel (director); Leigh Whannell (scree...</td>\n",
       "      <td>Mystery Horror Thriller</td>\n",
       "      <td>1858.0</td>\n",
       "      <td>6.2</td>\n",
       "    </tr>\n",
       "    <tr>\n",
       "      <th>1</th>\n",
       "      <td>The Strange Ones</td>\n",
       "      <td>Lauren Wolkstein (director); Christopher Radcl...</td>\n",
       "      <td>Thriller Drama</td>\n",
       "      <td>53.0</td>\n",
       "      <td>5.4</td>\n",
       "    </tr>\n",
       "    <tr>\n",
       "      <th>2</th>\n",
       "      <td>Stratton</td>\n",
       "      <td>Simon West (director); Duncan Falconer, Warren...</td>\n",
       "      <td>Action Thriller</td>\n",
       "      <td>151.0</td>\n",
       "      <td>4.9</td>\n",
       "    </tr>\n",
       "    <tr>\n",
       "      <th>3</th>\n",
       "      <td>Sweet Country</td>\n",
       "      <td>Warwick Thornton (director); David Tranter, St...</td>\n",
       "      <td>Drama History Western</td>\n",
       "      <td>98.0</td>\n",
       "      <td>6.7</td>\n",
       "    </tr>\n",
       "    <tr>\n",
       "      <th>4</th>\n",
       "      <td>The Commuter</td>\n",
       "      <td>Jaume Collet-Serra (director); Byron Willinger...</td>\n",
       "      <td>Action Thriller</td>\n",
       "      <td>3172.0</td>\n",
       "      <td>6.3</td>\n",
       "    </tr>\n",
       "  </tbody>\n",
       "</table>\n",
       "</div>"
      ],
      "text/plain": [
       "                     Title                                      Cast and crew  \\\n",
       "0  Insidious: The Last Key  Adam Robitel (director); Leigh Whannell (scree...   \n",
       "1         The Strange Ones  Lauren Wolkstein (director); Christopher Radcl...   \n",
       "2                 Stratton  Simon West (director); Duncan Falconer, Warren...   \n",
       "3            Sweet Country  Warwick Thornton (director); David Tranter, St...   \n",
       "4             The Commuter  Jaume Collet-Serra (director); Byron Willinger...   \n",
       "\n",
       "                    genres  vote_count  vote_average  \n",
       "0  Mystery Horror Thriller      1858.0           6.2  \n",
       "1           Thriller Drama        53.0           5.4  \n",
       "2          Action Thriller       151.0           4.9  \n",
       "3    Drama History Western        98.0           6.7  \n",
       "4          Action Thriller      3172.0           6.3  "
      ]
     },
     "execution_count": 10,
     "metadata": {},
     "output_type": "execute_result"
    }
   ],
   "source": [
    "data18_to_20.head()"
   ]
  },
  {
   "cell_type": "code",
   "execution_count": 11,
   "metadata": {},
   "outputs": [
    {
     "data": {
      "text/plain": [
       "Title             0\n",
       "Cast and crew     0\n",
       "genres            7\n",
       "vote_count       36\n",
       "vote_average      1\n",
       "dtype: int64"
      ]
     },
     "execution_count": 11,
     "metadata": {},
     "output_type": "execute_result"
    }
   ],
   "source": [
    "data18_to_20.isnull().sum()"
   ]
  },
  {
   "cell_type": "code",
   "execution_count": 12,
   "metadata": {},
   "outputs": [],
   "source": [
    "# Droping all those rows which contains null values.\n",
    "data18_to_20.dropna(inplace=True, axis=0)"
   ]
  },
  {
   "cell_type": "code",
   "execution_count": 13,
   "metadata": {},
   "outputs": [
    {
     "data": {
      "text/plain": [
       "Title            0\n",
       "Cast and crew    0\n",
       "genres           0\n",
       "vote_count       0\n",
       "vote_average     0\n",
       "dtype: int64"
      ]
     },
     "execution_count": 13,
     "metadata": {},
     "output_type": "execute_result"
    }
   ],
   "source": [
    "data18_to_20.isnull().sum()"
   ]
  },
  {
   "cell_type": "code",
   "execution_count": 14,
   "metadata": {},
   "outputs": [
    {
     "data": {
      "text/plain": [
       "(694, 5)"
      ]
     },
     "execution_count": 14,
     "metadata": {},
     "output_type": "execute_result"
    }
   ],
   "source": [
    "data18_to_20.shape"
   ]
  },
  {
   "cell_type": "code",
   "execution_count": 15,
   "metadata": {},
   "outputs": [
    {
     "data": {
      "text/html": [
       "<div>\n",
       "<style scoped>\n",
       "    .dataframe tbody tr th:only-of-type {\n",
       "        vertical-align: middle;\n",
       "    }\n",
       "\n",
       "    .dataframe tbody tr th {\n",
       "        vertical-align: top;\n",
       "    }\n",
       "\n",
       "    .dataframe thead th {\n",
       "        text-align: right;\n",
       "    }\n",
       "</style>\n",
       "<table border=\"1\" class=\"dataframe\">\n",
       "  <thead>\n",
       "    <tr style=\"text-align: right;\">\n",
       "      <th></th>\n",
       "      <th>Title</th>\n",
       "      <th>Cast and crew</th>\n",
       "      <th>genres</th>\n",
       "      <th>vote_count</th>\n",
       "      <th>vote_average</th>\n",
       "    </tr>\n",
       "  </thead>\n",
       "  <tbody>\n",
       "    <tr>\n",
       "      <th>0</th>\n",
       "      <td>Insidious: The Last Key</td>\n",
       "      <td>Adam Robitel (director); Leigh Whannell (scree...</td>\n",
       "      <td>Mystery Horror Thriller</td>\n",
       "      <td>1858.0</td>\n",
       "      <td>6.2</td>\n",
       "    </tr>\n",
       "    <tr>\n",
       "      <th>1</th>\n",
       "      <td>The Strange Ones</td>\n",
       "      <td>Lauren Wolkstein (director); Christopher Radcl...</td>\n",
       "      <td>Thriller Drama</td>\n",
       "      <td>53.0</td>\n",
       "      <td>5.4</td>\n",
       "    </tr>\n",
       "    <tr>\n",
       "      <th>2</th>\n",
       "      <td>Stratton</td>\n",
       "      <td>Simon West (director); Duncan Falconer, Warren...</td>\n",
       "      <td>Action Thriller</td>\n",
       "      <td>151.0</td>\n",
       "      <td>4.9</td>\n",
       "    </tr>\n",
       "  </tbody>\n",
       "</table>\n",
       "</div>"
      ],
      "text/plain": [
       "                     Title                                      Cast and crew  \\\n",
       "0  Insidious: The Last Key  Adam Robitel (director); Leigh Whannell (scree...   \n",
       "1         The Strange Ones  Lauren Wolkstein (director); Christopher Radcl...   \n",
       "2                 Stratton  Simon West (director); Duncan Falconer, Warren...   \n",
       "\n",
       "                    genres  vote_count  vote_average  \n",
       "0  Mystery Horror Thriller      1858.0           6.2  \n",
       "1           Thriller Drama        53.0           5.4  \n",
       "2          Action Thriller       151.0           4.9  "
      ]
     },
     "execution_count": 15,
     "metadata": {},
     "output_type": "execute_result"
    }
   ],
   "source": [
    "data18_to_20.head(3)"
   ]
  },
  {
   "cell_type": "markdown",
   "metadata": {},
   "source": [
    "### Extracting director name(s), actor name(s) from cast and crew"
   ]
  },
  {
   "cell_type": "code",
   "execution_count": 16,
   "metadata": {},
   "outputs": [],
   "source": [
    "def get_director(x):\n",
    "    if \" (director)\" in x:\n",
    "        return x.split(\" (director)\")[0]\n",
    "    elif \" (directors)\" in x:\n",
    "        return x.split(\" (directors)\")[0]\n",
    "    else:\n",
    "        return x.split(\" (director/screenplay)\")[0]\n",
    "    \n",
    "data18_to_20['director_name'] = data18_to_20['Cast and crew'].map(lambda x: get_director(x)) "
   ]
  },
  {
   "cell_type": "code",
   "execution_count": 17,
   "metadata": {},
   "outputs": [],
   "source": [
    "def get_actor1(x):\n",
    "    return ((x.split(\"screenplay); \")[-1]).split(\", \")[0])\n",
    "\n",
    "data18_to_20['actor_1_name'] = data18_to_20['Cast and crew'].map(lambda x: get_actor1(x)) "
   ]
  },
  {
   "cell_type": "code",
   "execution_count": 18,
   "metadata": {},
   "outputs": [],
   "source": [
    "def get_actor2(x):\n",
    "    if len((x.split(\"screenplay); \")[-1]).split(\", \")) < 2:\n",
    "        return np.NaN\n",
    "    else:\n",
    "        return ((x.split(\"screenplay); \")[-1]).split(\", \")[1])\n",
    "\n",
    "data18_to_20['actor_2_name'] = data18_to_20['Cast and crew'].map(lambda x: get_actor2(x)) "
   ]
  },
  {
   "cell_type": "code",
   "execution_count": 19,
   "metadata": {},
   "outputs": [],
   "source": [
    "def get_actor3(x):\n",
    "    if len((x.split(\"screenplay); \")[-1]).split(\", \")) < 3:\n",
    "        return np.NaN\n",
    "    else:\n",
    "        return ((x.split(\"screenplay); \")[-1]).split(\", \")[2])\n",
    "    \n",
    "data18_to_20['actor_3_name'] = data18_to_20['Cast and crew'].map(lambda x: get_actor3(x)) "
   ]
  },
  {
   "cell_type": "code",
   "execution_count": 20,
   "metadata": {},
   "outputs": [
    {
     "data": {
      "text/html": [
       "<div>\n",
       "<style scoped>\n",
       "    .dataframe tbody tr th:only-of-type {\n",
       "        vertical-align: middle;\n",
       "    }\n",
       "\n",
       "    .dataframe tbody tr th {\n",
       "        vertical-align: top;\n",
       "    }\n",
       "\n",
       "    .dataframe thead th {\n",
       "        text-align: right;\n",
       "    }\n",
       "</style>\n",
       "<table border=\"1\" class=\"dataframe\">\n",
       "  <thead>\n",
       "    <tr style=\"text-align: right;\">\n",
       "      <th></th>\n",
       "      <th>Title</th>\n",
       "      <th>Cast and crew</th>\n",
       "      <th>genres</th>\n",
       "      <th>vote_count</th>\n",
       "      <th>vote_average</th>\n",
       "      <th>director_name</th>\n",
       "      <th>actor_1_name</th>\n",
       "      <th>actor_2_name</th>\n",
       "      <th>actor_3_name</th>\n",
       "    </tr>\n",
       "  </thead>\n",
       "  <tbody>\n",
       "    <tr>\n",
       "      <th>0</th>\n",
       "      <td>Insidious: The Last Key</td>\n",
       "      <td>Adam Robitel (director); Leigh Whannell (scree...</td>\n",
       "      <td>Mystery Horror Thriller</td>\n",
       "      <td>1858.0</td>\n",
       "      <td>6.2</td>\n",
       "      <td>Adam Robitel</td>\n",
       "      <td>Lin Shaye</td>\n",
       "      <td>Angus Sampson</td>\n",
       "      <td>Leigh Whannell</td>\n",
       "    </tr>\n",
       "    <tr>\n",
       "      <th>1</th>\n",
       "      <td>The Strange Ones</td>\n",
       "      <td>Lauren Wolkstein (director); Christopher Radcl...</td>\n",
       "      <td>Thriller Drama</td>\n",
       "      <td>53.0</td>\n",
       "      <td>5.4</td>\n",
       "      <td>Lauren Wolkstein</td>\n",
       "      <td>Alex Pettyfer</td>\n",
       "      <td>James Freedson-Jackson</td>\n",
       "      <td>Emily Althaus</td>\n",
       "    </tr>\n",
       "    <tr>\n",
       "      <th>2</th>\n",
       "      <td>Stratton</td>\n",
       "      <td>Simon West (director); Duncan Falconer, Warren...</td>\n",
       "      <td>Action Thriller</td>\n",
       "      <td>151.0</td>\n",
       "      <td>4.9</td>\n",
       "      <td>Simon West</td>\n",
       "      <td>Dominic Cooper</td>\n",
       "      <td>Austin Stowell</td>\n",
       "      <td>Gemma Chan</td>\n",
       "    </tr>\n",
       "  </tbody>\n",
       "</table>\n",
       "</div>"
      ],
      "text/plain": [
       "                     Title                                      Cast and crew  \\\n",
       "0  Insidious: The Last Key  Adam Robitel (director); Leigh Whannell (scree...   \n",
       "1         The Strange Ones  Lauren Wolkstein (director); Christopher Radcl...   \n",
       "2                 Stratton  Simon West (director); Duncan Falconer, Warren...   \n",
       "\n",
       "                    genres  vote_count  vote_average     director_name  \\\n",
       "0  Mystery Horror Thriller      1858.0           6.2      Adam Robitel   \n",
       "1           Thriller Drama        53.0           5.4  Lauren Wolkstein   \n",
       "2          Action Thriller       151.0           4.9        Simon West   \n",
       "\n",
       "     actor_1_name            actor_2_name    actor_3_name  \n",
       "0       Lin Shaye           Angus Sampson  Leigh Whannell  \n",
       "1   Alex Pettyfer  James Freedson-Jackson   Emily Althaus  \n",
       "2  Dominic Cooper          Austin Stowell      Gemma Chan  "
      ]
     },
     "execution_count": 20,
     "metadata": {},
     "output_type": "execute_result"
    }
   ],
   "source": [
    "data18_to_20.head(3)"
   ]
  },
  {
   "cell_type": "code",
   "execution_count": 21,
   "metadata": {},
   "outputs": [],
   "source": [
    "# Renaming the feature 'title' to 'movie_title'. \n",
    "data18_to_20 = data18_to_20.rename(columns={'Title': 'movie_title'})"
   ]
  },
  {
   "cell_type": "code",
   "execution_count": 22,
   "metadata": {},
   "outputs": [],
   "source": [
    "# Extracting the required features.\n",
    "new_df18_to_20 = data18_to_20.loc[:,['movie_title','director_name','actor_1_name','actor_2_name','actor_3_name','genres','vote_average','vote_count']] "
   ]
  },
  {
   "cell_type": "code",
   "execution_count": 23,
   "metadata": {},
   "outputs": [
    {
     "data": {
      "text/html": [
       "<div>\n",
       "<style scoped>\n",
       "    .dataframe tbody tr th:only-of-type {\n",
       "        vertical-align: middle;\n",
       "    }\n",
       "\n",
       "    .dataframe tbody tr th {\n",
       "        vertical-align: top;\n",
       "    }\n",
       "\n",
       "    .dataframe thead th {\n",
       "        text-align: right;\n",
       "    }\n",
       "</style>\n",
       "<table border=\"1\" class=\"dataframe\">\n",
       "  <thead>\n",
       "    <tr style=\"text-align: right;\">\n",
       "      <th></th>\n",
       "      <th>movie_title</th>\n",
       "      <th>director_name</th>\n",
       "      <th>actor_1_name</th>\n",
       "      <th>actor_2_name</th>\n",
       "      <th>actor_3_name</th>\n",
       "      <th>genres</th>\n",
       "      <th>vote_average</th>\n",
       "      <th>vote_count</th>\n",
       "    </tr>\n",
       "  </thead>\n",
       "  <tbody>\n",
       "    <tr>\n",
       "      <th>0</th>\n",
       "      <td>Insidious: The Last Key</td>\n",
       "      <td>Adam Robitel</td>\n",
       "      <td>Lin Shaye</td>\n",
       "      <td>Angus Sampson</td>\n",
       "      <td>Leigh Whannell</td>\n",
       "      <td>Mystery Horror Thriller</td>\n",
       "      <td>6.2</td>\n",
       "      <td>1858.0</td>\n",
       "    </tr>\n",
       "    <tr>\n",
       "      <th>1</th>\n",
       "      <td>The Strange Ones</td>\n",
       "      <td>Lauren Wolkstein</td>\n",
       "      <td>Alex Pettyfer</td>\n",
       "      <td>James Freedson-Jackson</td>\n",
       "      <td>Emily Althaus</td>\n",
       "      <td>Thriller Drama</td>\n",
       "      <td>5.4</td>\n",
       "      <td>53.0</td>\n",
       "    </tr>\n",
       "    <tr>\n",
       "      <th>2</th>\n",
       "      <td>Stratton</td>\n",
       "      <td>Simon West</td>\n",
       "      <td>Dominic Cooper</td>\n",
       "      <td>Austin Stowell</td>\n",
       "      <td>Gemma Chan</td>\n",
       "      <td>Action Thriller</td>\n",
       "      <td>4.9</td>\n",
       "      <td>151.0</td>\n",
       "    </tr>\n",
       "    <tr>\n",
       "      <th>3</th>\n",
       "      <td>Sweet Country</td>\n",
       "      <td>Warwick Thornton</td>\n",
       "      <td>Bryan Brown</td>\n",
       "      <td>Sam Neill</td>\n",
       "      <td>NaN</td>\n",
       "      <td>Drama History Western</td>\n",
       "      <td>6.7</td>\n",
       "      <td>98.0</td>\n",
       "    </tr>\n",
       "    <tr>\n",
       "      <th>4</th>\n",
       "      <td>The Commuter</td>\n",
       "      <td>Jaume Collet-Serra</td>\n",
       "      <td>Liam Neeson</td>\n",
       "      <td>Vera Farmiga</td>\n",
       "      <td>Patrick Wilson</td>\n",
       "      <td>Action Thriller</td>\n",
       "      <td>6.3</td>\n",
       "      <td>3172.0</td>\n",
       "    </tr>\n",
       "  </tbody>\n",
       "</table>\n",
       "</div>"
      ],
      "text/plain": [
       "               movie_title       director_name    actor_1_name  \\\n",
       "0  Insidious: The Last Key        Adam Robitel       Lin Shaye   \n",
       "1         The Strange Ones    Lauren Wolkstein   Alex Pettyfer   \n",
       "2                 Stratton          Simon West  Dominic Cooper   \n",
       "3            Sweet Country    Warwick Thornton     Bryan Brown   \n",
       "4             The Commuter  Jaume Collet-Serra     Liam Neeson   \n",
       "\n",
       "             actor_2_name    actor_3_name                   genres  \\\n",
       "0           Angus Sampson  Leigh Whannell  Mystery Horror Thriller   \n",
       "1  James Freedson-Jackson   Emily Althaus           Thriller Drama   \n",
       "2          Austin Stowell      Gemma Chan          Action Thriller   \n",
       "3               Sam Neill             NaN    Drama History Western   \n",
       "4            Vera Farmiga  Patrick Wilson          Action Thriller   \n",
       "\n",
       "   vote_average  vote_count  \n",
       "0           6.2      1858.0  \n",
       "1           5.4        53.0  \n",
       "2           4.9       151.0  \n",
       "3           6.7        98.0  \n",
       "4           6.3      3172.0  "
      ]
     },
     "execution_count": 23,
     "metadata": {},
     "output_type": "execute_result"
    }
   ],
   "source": [
    "new_df18_to_20.head()"
   ]
  },
  {
   "cell_type": "code",
   "execution_count": 24,
   "metadata": {},
   "outputs": [
    {
     "data": {
      "text/plain": [
       "movie_title       0\n",
       "director_name     0\n",
       "actor_1_name      0\n",
       "actor_2_name     12\n",
       "actor_3_name     62\n",
       "genres            0\n",
       "vote_average      0\n",
       "vote_count        0\n",
       "dtype: int64"
      ]
     },
     "execution_count": 24,
     "metadata": {},
     "output_type": "execute_result"
    }
   ],
   "source": [
    "new_df18_to_20.isnull().sum()"
   ]
  },
  {
   "cell_type": "code",
   "execution_count": 25,
   "metadata": {},
   "outputs": [],
   "source": [
    "new_df18_to_20['actor_2_name'] = new_df18_to_20['actor_2_name'].replace(np.nan,'unknown')\n",
    "new_df18_to_20['actor_3_name'] = new_df18_to_20['actor_3_name'].replace(np.nan,'unknown')\n",
    "new_df18_to_20['movie_title'] = new_df18_to_20['movie_title'].str.lower()"
   ]
  },
  {
   "cell_type": "code",
   "execution_count": 26,
   "metadata": {},
   "outputs": [
    {
     "data": {
      "text/plain": [
       "movie_title      0\n",
       "director_name    0\n",
       "actor_1_name     0\n",
       "actor_2_name     0\n",
       "actor_3_name     0\n",
       "genres           0\n",
       "vote_average     0\n",
       "vote_count       0\n",
       "dtype: int64"
      ]
     },
     "execution_count": 26,
     "metadata": {},
     "output_type": "execute_result"
    }
   ],
   "source": [
    "new_df18_to_20.isnull().sum()"
   ]
  },
  {
   "cell_type": "code",
   "execution_count": 27,
   "metadata": {},
   "outputs": [],
   "source": [
    "new_df18_to_20['actor_1_name'] = new_df18_to_20['actor_1_name'].str.replace(' ','')\n",
    "new_df18_to_20['actor_2_name'] = new_df18_to_20['actor_2_name'].str.replace(' ','')\n",
    "new_df18_to_20['actor_3_name'] = new_df18_to_20['actor_3_name'].str.replace(' ','')\n",
    "new_df18_to_20['director_name'] = new_df18_to_20['director_name'].str.replace(' ','')"
   ]
  },
  {
   "cell_type": "code",
   "execution_count": 30,
   "metadata": {},
   "outputs": [],
   "source": [
    "new_df18_to_20['movie_title'] = new_df18_to_20['movie_title'].str.lower()\n",
    "new_df18_to_20['actor_1_name'] = new_df18_to_20['actor_1_name'].str.lower()\n",
    "new_df18_to_20['actor_2_name'] = new_df18_to_20['actor_2_name'].str.lower()\n",
    "new_df18_to_20['actor_3_name'] = new_df18_to_20['actor_3_name'].str.lower()\n",
    "new_df18_to_20['director_name'] = new_df18_to_20['director_name'].str.lower()"
   ]
  },
  {
   "cell_type": "code",
   "execution_count": 31,
   "metadata": {},
   "outputs": [],
   "source": [
    "new_df18_to_20['comb'] = new_df18_to_20['actor_1_name'] + ' ' + new_df18_to_20['actor_2_name'] + ' ' + new_df18_to_20['actor_3_name'] + ' ' + new_df18_to_20['director_name'] + ' ' + new_df18_to_20['genres']"
   ]
  },
  {
   "cell_type": "code",
   "execution_count": 32,
   "metadata": {},
   "outputs": [
    {
     "data": {
      "text/html": [
       "<div>\n",
       "<style scoped>\n",
       "    .dataframe tbody tr th:only-of-type {\n",
       "        vertical-align: middle;\n",
       "    }\n",
       "\n",
       "    .dataframe tbody tr th {\n",
       "        vertical-align: top;\n",
       "    }\n",
       "\n",
       "    .dataframe thead th {\n",
       "        text-align: right;\n",
       "    }\n",
       "</style>\n",
       "<table border=\"1\" class=\"dataframe\">\n",
       "  <thead>\n",
       "    <tr style=\"text-align: right;\">\n",
       "      <th></th>\n",
       "      <th>movie_title</th>\n",
       "      <th>director_name</th>\n",
       "      <th>actor_1_name</th>\n",
       "      <th>actor_2_name</th>\n",
       "      <th>actor_3_name</th>\n",
       "      <th>genres</th>\n",
       "      <th>vote_average</th>\n",
       "      <th>vote_count</th>\n",
       "      <th>comb</th>\n",
       "    </tr>\n",
       "  </thead>\n",
       "  <tbody>\n",
       "    <tr>\n",
       "      <th>0</th>\n",
       "      <td>insidious: the last key</td>\n",
       "      <td>adamrobitel</td>\n",
       "      <td>linshaye</td>\n",
       "      <td>angussampson</td>\n",
       "      <td>leighwhannell</td>\n",
       "      <td>Mystery Horror Thriller</td>\n",
       "      <td>6.2</td>\n",
       "      <td>1858.0</td>\n",
       "      <td>linshaye angussampson leighwhannell adamrobite...</td>\n",
       "    </tr>\n",
       "    <tr>\n",
       "      <th>1</th>\n",
       "      <td>the strange ones</td>\n",
       "      <td>laurenwolkstein</td>\n",
       "      <td>alexpettyfer</td>\n",
       "      <td>jamesfreedson-jackson</td>\n",
       "      <td>emilyalthaus</td>\n",
       "      <td>Thriller Drama</td>\n",
       "      <td>5.4</td>\n",
       "      <td>53.0</td>\n",
       "      <td>alexpettyfer jamesfreedson-jackson emilyalthau...</td>\n",
       "    </tr>\n",
       "    <tr>\n",
       "      <th>2</th>\n",
       "      <td>stratton</td>\n",
       "      <td>simonwest</td>\n",
       "      <td>dominiccooper</td>\n",
       "      <td>austinstowell</td>\n",
       "      <td>gemmachan</td>\n",
       "      <td>Action Thriller</td>\n",
       "      <td>4.9</td>\n",
       "      <td>151.0</td>\n",
       "      <td>dominiccooper austinstowell gemmachan simonwes...</td>\n",
       "    </tr>\n",
       "  </tbody>\n",
       "</table>\n",
       "</div>"
      ],
      "text/plain": [
       "               movie_title    director_name   actor_1_name  \\\n",
       "0  insidious: the last key      adamrobitel       linshaye   \n",
       "1         the strange ones  laurenwolkstein   alexpettyfer   \n",
       "2                 stratton        simonwest  dominiccooper   \n",
       "\n",
       "            actor_2_name   actor_3_name                   genres  \\\n",
       "0           angussampson  leighwhannell  Mystery Horror Thriller   \n",
       "1  jamesfreedson-jackson   emilyalthaus           Thriller Drama   \n",
       "2          austinstowell      gemmachan          Action Thriller   \n",
       "\n",
       "   vote_average  vote_count                                               comb  \n",
       "0           6.2      1858.0  linshaye angussampson leighwhannell adamrobite...  \n",
       "1           5.4        53.0  alexpettyfer jamesfreedson-jackson emilyalthau...  \n",
       "2           4.9       151.0  dominiccooper austinstowell gemmachan simonwes...  "
      ]
     },
     "execution_count": 32,
     "metadata": {},
     "output_type": "execute_result"
    }
   ],
   "source": [
    "new_df18_to_20.head(3)"
   ]
  },
  {
   "cell_type": "code",
   "execution_count": 33,
   "metadata": {},
   "outputs": [],
   "source": [
    "# Importing the collected Data till 2017\n",
    "old_df = pd.read_csv('Data-till2017.csv')"
   ]
  },
  {
   "cell_type": "code",
   "execution_count": 34,
   "metadata": {},
   "outputs": [
    {
     "data": {
      "text/html": [
       "<div>\n",
       "<style scoped>\n",
       "    .dataframe tbody tr th:only-of-type {\n",
       "        vertical-align: middle;\n",
       "    }\n",
       "\n",
       "    .dataframe tbody tr th {\n",
       "        vertical-align: top;\n",
       "    }\n",
       "\n",
       "    .dataframe thead th {\n",
       "        text-align: right;\n",
       "    }\n",
       "</style>\n",
       "<table border=\"1\" class=\"dataframe\">\n",
       "  <thead>\n",
       "    <tr style=\"text-align: right;\">\n",
       "      <th></th>\n",
       "      <th>movie_title</th>\n",
       "      <th>director_name</th>\n",
       "      <th>actor_1_name</th>\n",
       "      <th>actor_2_name</th>\n",
       "      <th>actor_3_name</th>\n",
       "      <th>genres</th>\n",
       "      <th>vote_average</th>\n",
       "      <th>vote_count</th>\n",
       "      <th>comb</th>\n",
       "    </tr>\n",
       "  </thead>\n",
       "  <tbody>\n",
       "    <tr>\n",
       "      <th>0</th>\n",
       "      <td>avatar</td>\n",
       "      <td>jamescameron</td>\n",
       "      <td>cchpounder</td>\n",
       "      <td>joeldavidmoore</td>\n",
       "      <td>wesstudi</td>\n",
       "      <td>Action Adventure Fantasy Sci-Fi</td>\n",
       "      <td>7.9</td>\n",
       "      <td>3054.0</td>\n",
       "      <td>cchpounder joeldavidmoore wesstudi jamescamero...</td>\n",
       "    </tr>\n",
       "    <tr>\n",
       "      <th>1</th>\n",
       "      <td>pirates of the caribbean: at world's end</td>\n",
       "      <td>goreverbinski</td>\n",
       "      <td>johnnydepp</td>\n",
       "      <td>orlandobloom</td>\n",
       "      <td>jackdavenport</td>\n",
       "      <td>Action Adventure Fantasy</td>\n",
       "      <td>7.1</td>\n",
       "      <td>1238.0</td>\n",
       "      <td>johnnydepp orlandobloom jackdavenport goreverb...</td>\n",
       "    </tr>\n",
       "    <tr>\n",
       "      <th>2</th>\n",
       "      <td>spectre</td>\n",
       "      <td>sammendes</td>\n",
       "      <td>christophwaltz</td>\n",
       "      <td>rorykinnear</td>\n",
       "      <td>stephaniesigman</td>\n",
       "      <td>Action Adventure Thriller</td>\n",
       "      <td>6.8</td>\n",
       "      <td>994.0</td>\n",
       "      <td>christophwaltz rorykinnear stephaniesigman sam...</td>\n",
       "    </tr>\n",
       "  </tbody>\n",
       "</table>\n",
       "</div>"
      ],
      "text/plain": [
       "                                movie_title  director_name    actor_1_name  \\\n",
       "0                                    avatar   jamescameron      cchpounder   \n",
       "1  pirates of the caribbean: at world's end  goreverbinski      johnnydepp   \n",
       "2                                   spectre      sammendes  christophwaltz   \n",
       "\n",
       "     actor_2_name     actor_3_name                           genres  \\\n",
       "0  joeldavidmoore         wesstudi  Action Adventure Fantasy Sci-Fi   \n",
       "1    orlandobloom    jackdavenport         Action Adventure Fantasy   \n",
       "2     rorykinnear  stephaniesigman        Action Adventure Thriller   \n",
       "\n",
       "   vote_average  vote_count                                               comb  \n",
       "0           7.9      3054.0  cchpounder joeldavidmoore wesstudi jamescamero...  \n",
       "1           7.1      1238.0  johnnydepp orlandobloom jackdavenport goreverb...  \n",
       "2           6.8       994.0  christophwaltz rorykinnear stephaniesigman sam...  "
      ]
     },
     "execution_count": 34,
     "metadata": {},
     "output_type": "execute_result"
    }
   ],
   "source": [
    "old_df.head(3)"
   ]
  },
  {
   "cell_type": "markdown",
   "metadata": {},
   "source": [
    "## Combining all the data till 2020"
   ]
  },
  {
   "cell_type": "code",
   "execution_count": 35,
   "metadata": {},
   "outputs": [],
   "source": [
    "final_data = old_df.append(new_df18_to_20, ignore_index=True)"
   ]
  },
  {
   "cell_type": "code",
   "execution_count": 37,
   "metadata": {},
   "outputs": [
    {
     "data": {
      "text/plain": [
       "(6037, 9)"
      ]
     },
     "execution_count": 37,
     "metadata": {},
     "output_type": "execute_result"
    }
   ],
   "source": [
    "final_data.shape"
   ]
  },
  {
   "cell_type": "code",
   "execution_count": 38,
   "metadata": {},
   "outputs": [
    {
     "data": {
      "text/html": [
       "<div>\n",
       "<style scoped>\n",
       "    .dataframe tbody tr th:only-of-type {\n",
       "        vertical-align: middle;\n",
       "    }\n",
       "\n",
       "    .dataframe tbody tr th {\n",
       "        vertical-align: top;\n",
       "    }\n",
       "\n",
       "    .dataframe thead th {\n",
       "        text-align: right;\n",
       "    }\n",
       "</style>\n",
       "<table border=\"1\" class=\"dataframe\">\n",
       "  <thead>\n",
       "    <tr style=\"text-align: right;\">\n",
       "      <th></th>\n",
       "      <th>movie_title</th>\n",
       "      <th>director_name</th>\n",
       "      <th>actor_1_name</th>\n",
       "      <th>actor_2_name</th>\n",
       "      <th>actor_3_name</th>\n",
       "      <th>genres</th>\n",
       "      <th>vote_average</th>\n",
       "      <th>vote_count</th>\n",
       "      <th>comb</th>\n",
       "    </tr>\n",
       "  </thead>\n",
       "  <tbody>\n",
       "    <tr>\n",
       "      <th>0</th>\n",
       "      <td>avatar</td>\n",
       "      <td>jamescameron</td>\n",
       "      <td>cchpounder</td>\n",
       "      <td>joeldavidmoore</td>\n",
       "      <td>wesstudi</td>\n",
       "      <td>Action Adventure Fantasy Sci-Fi</td>\n",
       "      <td>7.9</td>\n",
       "      <td>3054.0</td>\n",
       "      <td>cchpounder joeldavidmoore wesstudi jamescamero...</td>\n",
       "    </tr>\n",
       "    <tr>\n",
       "      <th>1</th>\n",
       "      <td>pirates of the caribbean: at world's end</td>\n",
       "      <td>goreverbinski</td>\n",
       "      <td>johnnydepp</td>\n",
       "      <td>orlandobloom</td>\n",
       "      <td>jackdavenport</td>\n",
       "      <td>Action Adventure Fantasy</td>\n",
       "      <td>7.1</td>\n",
       "      <td>1238.0</td>\n",
       "      <td>johnnydepp orlandobloom jackdavenport goreverb...</td>\n",
       "    </tr>\n",
       "    <tr>\n",
       "      <th>2</th>\n",
       "      <td>spectre</td>\n",
       "      <td>sammendes</td>\n",
       "      <td>christophwaltz</td>\n",
       "      <td>rorykinnear</td>\n",
       "      <td>stephaniesigman</td>\n",
       "      <td>Action Adventure Thriller</td>\n",
       "      <td>6.8</td>\n",
       "      <td>994.0</td>\n",
       "      <td>christophwaltz rorykinnear stephaniesigman sam...</td>\n",
       "    </tr>\n",
       "    <tr>\n",
       "      <th>3</th>\n",
       "      <td>the dark knight rises</td>\n",
       "      <td>christophernolan</td>\n",
       "      <td>tomhardy</td>\n",
       "      <td>christianbale</td>\n",
       "      <td>josephgordon-levitt</td>\n",
       "      <td>Action Thriller</td>\n",
       "      <td>8.5</td>\n",
       "      <td>2701.0</td>\n",
       "      <td>tomhardy christianbale josephgordon-levitt chr...</td>\n",
       "    </tr>\n",
       "    <tr>\n",
       "      <th>4</th>\n",
       "      <td>john carter</td>\n",
       "      <td>andrewstanton</td>\n",
       "      <td>darylsabara</td>\n",
       "      <td>samanthamorton</td>\n",
       "      <td>pollywalker</td>\n",
       "      <td>Action Adventure Sci-Fi</td>\n",
       "      <td>6.6</td>\n",
       "      <td>738.0</td>\n",
       "      <td>darylsabara samanthamorton pollywalker andrews...</td>\n",
       "    </tr>\n",
       "  </tbody>\n",
       "</table>\n",
       "</div>"
      ],
      "text/plain": [
       "                                movie_title     director_name    actor_1_name  \\\n",
       "0                                    avatar      jamescameron      cchpounder   \n",
       "1  pirates of the caribbean: at world's end     goreverbinski      johnnydepp   \n",
       "2                                   spectre         sammendes  christophwaltz   \n",
       "3                     the dark knight rises  christophernolan        tomhardy   \n",
       "4                               john carter     andrewstanton     darylsabara   \n",
       "\n",
       "     actor_2_name         actor_3_name                           genres  \\\n",
       "0  joeldavidmoore             wesstudi  Action Adventure Fantasy Sci-Fi   \n",
       "1    orlandobloom        jackdavenport         Action Adventure Fantasy   \n",
       "2     rorykinnear      stephaniesigman        Action Adventure Thriller   \n",
       "3   christianbale  josephgordon-levitt                  Action Thriller   \n",
       "4  samanthamorton          pollywalker          Action Adventure Sci-Fi   \n",
       "\n",
       "   vote_average  vote_count                                               comb  \n",
       "0           7.9      3054.0  cchpounder joeldavidmoore wesstudi jamescamero...  \n",
       "1           7.1      1238.0  johnnydepp orlandobloom jackdavenport goreverb...  \n",
       "2           6.8       994.0  christophwaltz rorykinnear stephaniesigman sam...  \n",
       "3           8.5      2701.0  tomhardy christianbale josephgordon-levitt chr...  \n",
       "4           6.6       738.0  darylsabara samanthamorton pollywalker andrews...  "
      ]
     },
     "execution_count": 38,
     "metadata": {},
     "output_type": "execute_result"
    }
   ],
   "source": [
    "final_data.head()"
   ]
  },
  {
   "cell_type": "code",
   "execution_count": 39,
   "metadata": {},
   "outputs": [
    {
     "data": {
      "text/plain": [
       "movie_title      0\n",
       "director_name    0\n",
       "actor_1_name     0\n",
       "actor_2_name     0\n",
       "actor_3_name     0\n",
       "genres           0\n",
       "vote_average     0\n",
       "vote_count       0\n",
       "comb             0\n",
       "dtype: int64"
      ]
     },
     "execution_count": 39,
     "metadata": {},
     "output_type": "execute_result"
    }
   ],
   "source": [
    "final_data.isnull().sum()"
   ]
  },
  {
   "cell_type": "code",
   "execution_count": 40,
   "metadata": {},
   "outputs": [],
   "source": [
    "final_data.to_csv('Data-till2020.csv', index=False)"
   ]
  }
 ],
 "metadata": {
  "kernelspec": {
   "display_name": "Py-3.7(MLOPS-Tensorflow)",
   "language": "python",
   "name": "mlops"
  },
  "language_info": {
   "codemirror_mode": {
    "name": "ipython",
    "version": 3
   },
   "file_extension": ".py",
   "mimetype": "text/x-python",
   "name": "python",
   "nbconvert_exporter": "python",
   "pygments_lexer": "ipython3",
   "version": "3.7.9"
  }
 },
 "nbformat": 4,
 "nbformat_minor": 4
}
